{
 "metadata": {
  "name": "",
  "signature": "sha256:892184e85df726e05aa2302f07f7d296373367fcc14cb3e04134bfcc10f09965"
 },
 "nbformat": 3,
 "nbformat_minor": 0,
 "worksheets": [
  {
   "cells": [
    {
     "cell_type": "code",
     "collapsed": false,
     "input": [
      "import arcpy"
     ],
     "language": "python",
     "metadata": {},
     "outputs": [],
     "prompt_number": 7
    },
    {
     "cell_type": "code",
     "collapsed": false,
     "input": [
      "arcpy.env.workspace = r'F:\\DEVEL\\DATA\\metro-d-hustota-obyvatel\\praha_obyv.gdb'\n",
      "arcpy.env.overwriteOutput = True"
     ],
     "language": "python",
     "metadata": {},
     "outputs": [],
     "prompt_number": 8
    },
    {
     "cell_type": "code",
     "collapsed": false,
     "input": [
      "hexGrid = \"hexgrid_2_merc\"\n",
      "\n",
      "for year in [2001, 2014]:\n",
      "    print(year)\n",
      "    \n",
      "    arcpy.CreateRandomPoints_management(out_path=\"F:/DEVEL/DATA/metro-d-hustota-obyvatel/praha_obyv.gdb\", out_name=\"randomPoint_\" + str(year), constraining_feature_class=\"zsj_poly_obyvatele_merc\", constraining_extent=\"0 0 250 250\", number_of_points_or_field=\"F\" + str(year), minimum_allowed_distance=\"0 Meters\", create_multipoint_output=\"POINT\", multipoint_size=\"0\")\n",
      "    \n",
      "    arcpy.SpatialJoin_analysis(target_features=hexGrid, join_features=\"randomPoint_\" + str(year), out_feature_class=\"scratch_randJoin_\" + str(year), join_operation=\"JOIN_ONE_TO_ONE\", join_type=\"KEEP_ALL\", match_option=\"INTERSECT\")\n",
      "    #prejmenovat vyslednej sloupec\n",
      "    arcpy.AlterField_management(in_table=\"scratch_randJoin_\" + str(year), field='Join_Count', new_field_name='obyv_' + str(year))\n",
      "    #smazat random\n",
      "    arcpy.Delete_management(\"randomPoint_\" + str(year))\n",
      "    \n",
      "    hexGrid = \"scratch_randJoin_\" + str(year)"
     ],
     "language": "python",
     "metadata": {},
     "outputs": [
      {
       "output_type": "stream",
       "stream": "stdout",
       "text": [
        "2001\n",
        "2014"
       ]
      },
      {
       "output_type": "stream",
       "stream": "stdout",
       "text": [
        "\n"
       ]
      }
     ],
     "prompt_number": 10
    }
   ],
   "metadata": {}
  }
 ]
}