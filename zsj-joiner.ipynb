{
 "metadata": {
  "name": "",
  "signature": "sha256:4eba141a18ca664ab195730901092483e5d13139cc9813f8c64e0dd04ac4be9c"
 },
 "nbformat": 3,
 "nbformat_minor": 0,
 "worksheets": [
  {
   "cells": [
    {
     "cell_type": "code",
     "collapsed": false,
     "input": [
      "import pandas as pd\n",
      "import numpy as np"
     ],
     "language": "python",
     "metadata": {},
     "outputs": [],
     "prompt_number": 69
    },
    {
     "cell_type": "code",
     "collapsed": false,
     "input": [
      "data = pd.read_excel(r'data/ZSJ_Praha.xlsx', sheetname='2001', skiprows=range(0,3), parse_cols=[1, 2, 3, 4, 5, 6, 7])\n",
      "data.columns = ['zsj', 'nazzsj', 'stav', 'narozeni', 'zemreli', 'pristehovali', 'vystehovali']\n",
      "data['datum'] = '2001/12' #mm/dd/yyyy"
     ],
     "language": "python",
     "metadata": {},
     "outputs": [],
     "prompt_number": 70
    },
    {
     "cell_type": "code",
     "collapsed": false,
     "input": [
      "for year in range(2002, 2007):\n",
      "    buff = pd.read_excel(r'data/ZSJ_Praha.xlsx', sheetname=str(year), skiprows=range(0,3), parse_cols=[1, 2, 3, 4, 5, 6, 7])\n",
      "    buff.columns = ['zsj', 'nazzsj', 'stav', 'narozeni', 'zemreli', 'pristehovali', 'vystehovali']\n",
      "    buff['datum'] = str(year) + '/12' #mm/dd/yyyy\n",
      "    data = data.append(buff, ignore_index=True)"
     ],
     "language": "python",
     "metadata": {},
     "outputs": [],
     "prompt_number": 71
    },
    {
     "cell_type": "code",
     "collapsed": false,
     "input": [
      "for year in range(2007, 2009):\n",
      "    buff = pd.read_excel(r'data/ZSJ_Praha.xlsx', sheetname=str(year), skiprows=range(0,3), parse_cols=[0, 1, 2, 3, 4, 5, 6])\n",
      "    buff.columns = ['zsj', 'nazzsj', 'stav', 'narozeni', 'zemreli', 'pristehovali', 'vystehovali']\n",
      "    buff['datum'] = str(year) + '/12' #mm/dd/yyyy\n",
      "    data = data.append(buff, ignore_index=True)"
     ],
     "language": "python",
     "metadata": {},
     "outputs": [],
     "prompt_number": 72
    },
    {
     "cell_type": "code",
     "collapsed": false,
     "input": [
      "for year in range(2009, 2011):\n",
      "    buff = pd.read_excel(r'data/ZSJ_Praha.xlsx', sheetname=str(year), skiprows=range(0,2), parse_cols=[0, 1, 2, 3, 4, 5, 6])\n",
      "    buff.columns = ['zsj', 'nazzsj', 'stav', 'narozeni', 'zemreli', 'pristehovali', 'vystehovali']\n",
      "    buff['datum'] = str(year) + '/12' #mm/dd/yyyy\n",
      "    data = data.append(buff, ignore_index=True)"
     ],
     "language": "python",
     "metadata": {},
     "outputs": [],
     "prompt_number": 73
    },
    {
     "cell_type": "code",
     "collapsed": false,
     "input": [
      "buff = pd.read_excel(r'data/ZSJ_Praha.xlsx', sheetname='2011', skiprows=range(0,2), parse_cols=[0, 1, 2, 3, 4, 5])\n",
      "buff.columns = ['zsj', 'stav', 'narozeni', 'zemreli', 'pristehovali', 'vystehovali']\n",
      "buff['nazzsj'] = np.nan\n",
      "buff['datum'] = '2011/12' #mm/dd/yyyy\n",
      "data = data.append(buff, ignore_index=True)"
     ],
     "language": "python",
     "metadata": {},
     "outputs": [],
     "prompt_number": 74
    },
    {
     "cell_type": "code",
     "collapsed": false,
     "input": [
      "for year in range(2012, 2015):\n",
      "    buff = pd.read_excel(r'data/ZSJ_Praha.xlsx', sheetname=str(year), skiprows=range(0,2), parse_cols=[0, 1, 2, 3, 4, 5, 6])\n",
      "    buff.columns = ['zsj', 'nazzsj', 'stav', 'narozeni', 'zemreli', 'pristehovali', 'vystehovali']\n",
      "    buff['datum'] = str(year) + '/12' #mm/dd/yyyy\n",
      "    data = data.append(buff, ignore_index=True)"
     ],
     "language": "python",
     "metadata": {},
     "outputs": [],
     "prompt_number": 75
    },
    {
     "cell_type": "code",
     "collapsed": false,
     "input": [
      "ciselnik = pd.read_excel(r'data/ciselnik_2014.xlsx')\n",
      "urbany = {}\n",
      "\n",
      "for row in ciselnik.iterrows():\n",
      "    urbany[row[1]['URBAN']] = row[1]['ZSJ']"
     ],
     "language": "python",
     "metadata": {},
     "outputs": [],
     "prompt_number": 76
    },
    {
     "cell_type": "code",
     "collapsed": false,
     "input": [
      "def applizer(x):\n",
      "    try:\n",
      "        return urbany[int(x)]\n",
      "    except:\n",
      "        return x"
     ],
     "language": "python",
     "metadata": {},
     "outputs": [],
     "prompt_number": 77
    },
    {
     "cell_type": "code",
     "collapsed": false,
     "input": [
      "data.zsj = data.zsj.apply(lambda x: applizer(x))"
     ],
     "language": "python",
     "metadata": {},
     "outputs": [],
     "prompt_number": 78
    },
    {
     "cell_type": "code",
     "collapsed": false,
     "input": [
      "data.dropna(subset = ['zsj'], inplace=True)"
     ],
     "language": "python",
     "metadata": {},
     "outputs": [],
     "prompt_number": 79
    },
    {
     "cell_type": "code",
     "collapsed": false,
     "input": [
      "data.zsj = data.zsj.apply(lambda x: int(x / 10))"
     ],
     "language": "python",
     "metadata": {},
     "outputs": [],
     "prompt_number": 82
    },
    {
     "cell_type": "code",
     "collapsed": false,
     "input": [
      "data.to_excel(r'data/bundled.xlsx', index=False)"
     ],
     "language": "python",
     "metadata": {},
     "outputs": [],
     "prompt_number": 83
    }
   ],
   "metadata": {}
  }
 ]
}