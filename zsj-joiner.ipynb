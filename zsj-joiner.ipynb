{
 "metadata": {
  "name": "",
  "signature": "sha256:991ffb1c55cc90b435f00f0f8b2f8d26641d989e6fd71db7be627898b962506b"
 },
 "nbformat": 3,
 "nbformat_minor": 0,
 "worksheets": [
  {
   "cells": [
    {
     "cell_type": "code",
     "collapsed": false,
     "input": [
      "import pandas as pd\n",
      "import numpy as np"
     ],
     "language": "python",
     "metadata": {},
     "outputs": [],
     "prompt_number": 1
    },
    {
     "cell_type": "code",
     "collapsed": false,
     "input": [
      "data = pd.read_excel(r'data/ZSJ_Praha.xlsx', sheetname='2001', skiprows=range(0,3), parse_cols=[1, 2, 3, 4, 5, 6, 7])\n",
      "data.columns = ['zsj', 'nazzsj', 'stav', 'narozeni', 'zemreli', 'pristehovali', 'vystehovali']\n",
      "data['datum'] = '2001/12' #mm/dd/yyyy"
     ],
     "language": "python",
     "metadata": {},
     "outputs": [],
     "prompt_number": 2
    },
    {
     "cell_type": "code",
     "collapsed": false,
     "input": [
      "for year in range(2002, 2007):\n",
      "    buff = pd.read_excel(r'data/ZSJ_Praha.xlsx', sheetname=str(year), skiprows=range(0,3), parse_cols=[1, 2, 3, 4, 5, 6, 7])\n",
      "    buff.columns = ['zsj', 'nazzsj', 'stav', 'narozeni', 'zemreli', 'pristehovali', 'vystehovali']\n",
      "    buff['datum'] = str(year) + '/12' #mm/dd/yyyy\n",
      "    data = data.append(buff, ignore_index=True)"
     ],
     "language": "python",
     "metadata": {},
     "outputs": [],
     "prompt_number": 3
    },
    {
     "cell_type": "code",
     "collapsed": false,
     "input": [
      "for year in range(2007, 2009):\n",
      "    buff = pd.read_excel(r'data/ZSJ_Praha.xlsx', sheetname=str(year), skiprows=range(0,3), parse_cols=[0, 1, 2, 3, 4, 5, 6])\n",
      "    buff.columns = ['zsj', 'nazzsj', 'stav', 'narozeni', 'zemreli', 'pristehovali', 'vystehovali']\n",
      "    buff['datum'] = str(year) + '/12' #mm/dd/yyyy\n",
      "    data = data.append(buff, ignore_index=True)"
     ],
     "language": "python",
     "metadata": {},
     "outputs": [],
     "prompt_number": 4
    },
    {
     "cell_type": "code",
     "collapsed": false,
     "input": [
      "for year in range(2009, 2011):\n",
      "    buff = pd.read_excel(r'data/ZSJ_Praha.xlsx', sheetname=str(year), skiprows=range(0,2), parse_cols=[0, 1, 2, 3, 4, 5, 6])\n",
      "    buff.columns = ['zsj', 'nazzsj', 'stav', 'narozeni', 'zemreli', 'pristehovali', 'vystehovali']\n",
      "    buff['datum'] = str(year) + '/12' #mm/dd/yyyy\n",
      "    data = data.append(buff, ignore_index=True)"
     ],
     "language": "python",
     "metadata": {},
     "outputs": [],
     "prompt_number": 5
    },
    {
     "cell_type": "code",
     "collapsed": false,
     "input": [
      "buff = pd.read_excel(r'data/ZSJ_Praha.xlsx', sheetname='2011', skiprows=range(0,2), parse_cols=[0, 1, 2, 3, 4, 5])\n",
      "buff.columns = ['zsj', 'stav', 'narozeni', 'zemreli', 'pristehovali', 'vystehovali']\n",
      "buff['nazzsj'] = np.nan\n",
      "buff['datum'] = '2011/12' #mm/dd/yyyy\n",
      "data = data.append(buff, ignore_index=True)"
     ],
     "language": "python",
     "metadata": {},
     "outputs": [],
     "prompt_number": 6
    },
    {
     "cell_type": "code",
     "collapsed": false,
     "input": [
      "for year in range(2012, 2015):\n",
      "    buff = pd.read_excel(r'data/ZSJ_Praha.xlsx', sheetname=str(year), skiprows=range(0,2), parse_cols=[0, 1, 2, 3, 4, 5, 6])\n",
      "    buff.columns = ['zsj', 'nazzsj', 'stav', 'narozeni', 'zemreli', 'pristehovali', 'vystehovali']\n",
      "    buff['datum'] = str(year) + '/12' #mm/dd/yyyy\n",
      "    data = data.append(buff, ignore_index=True)"
     ],
     "language": "python",
     "metadata": {},
     "outputs": [],
     "prompt_number": 7
    },
    {
     "cell_type": "code",
     "collapsed": false,
     "input": [
      "ciselnik = pd.read_excel(r'data/ciselnik_2014.xlsx')\n",
      "urbany = {}\n",
      "\n",
      "for row in ciselnik.iterrows():\n",
      "    urbany[row[1]['URBAN']] = row[1]['ZSJ']"
     ],
     "language": "python",
     "metadata": {},
     "outputs": [],
     "prompt_number": 8
    },
    {
     "cell_type": "code",
     "collapsed": false,
     "input": [
      "def applizer(x):\n",
      "    try:\n",
      "        return urbany[int(x)]\n",
      "    except:\n",
      "        return x"
     ],
     "language": "python",
     "metadata": {},
     "outputs": [],
     "prompt_number": 9
    },
    {
     "cell_type": "code",
     "collapsed": false,
     "input": [
      "data.zsj = data.zsj.apply(lambda x: applizer(x))"
     ],
     "language": "python",
     "metadata": {},
     "outputs": [],
     "prompt_number": 10
    },
    {
     "cell_type": "code",
     "collapsed": false,
     "input": [
      "data.dropna(subset = ['zsj'], inplace=True)"
     ],
     "language": "python",
     "metadata": {},
     "outputs": [],
     "prompt_number": 11
    },
    {
     "cell_type": "code",
     "collapsed": false,
     "input": [
      "data.zsj = data.zsj.apply(lambda x: int(x / 10))"
     ],
     "language": "python",
     "metadata": {},
     "outputs": [],
     "prompt_number": 12
    },
    {
     "cell_type": "code",
     "collapsed": false,
     "input": [
      "data.to_excel(r'data/bundled.xlsx', index=False)"
     ],
     "language": "python",
     "metadata": {},
     "outputs": [],
     "prompt_number": 13
    },
    {
     "cell_type": "code",
     "collapsed": false,
     "input": [
      "#agregace hexy"
     ],
     "language": "python",
     "metadata": {},
     "outputs": [],
     "prompt_number": 15
    },
    {
     "cell_type": "code",
     "collapsed": false,
     "input": [
      "joiner = {}\n",
      "hexJoin = pd.read_excel(r'data/zsj_hex_join_tbl_merc.xls')\n",
      "\n",
      "for row in hexJoin.iterrows():\n",
      "    joiner[row[1]['KOD_ZSJ']] = row[1]['hexID']"
     ],
     "language": "python",
     "metadata": {},
     "outputs": [],
     "prompt_number": 82
    },
    {
     "cell_type": "code",
     "collapsed": false,
     "input": [
      "out = {}\n",
      "\n",
      "for row in data.iterrows():\n",
      "    datum = row[1]['datum']\n",
      "    stav = row[1]['stav']\n",
      "        \n",
      "    try:\n",
      "        hexID = joiner[row[1]['zsj']]\n",
      "    except:\n",
      "        continue\n",
      "    \n",
      "    gID = str(hexID) + '_' + datum\n",
      "    \n",
      "    if gID not in out:\n",
      "        out[gID] = 0\n",
      "    out[gID] += stav"
     ],
     "language": "python",
     "metadata": {},
     "outputs": [],
     "prompt_number": 83
    },
    {
     "cell_type": "code",
     "collapsed": false,
     "input": [
      "outFrame = pd.DataFrame.from_dict(out, orient='index')"
     ],
     "language": "python",
     "metadata": {},
     "outputs": [],
     "prompt_number": 84
    },
    {
     "cell_type": "code",
     "collapsed": false,
     "input": [
      "outFrame.reset_index(inplace=True)"
     ],
     "language": "python",
     "metadata": {},
     "outputs": [],
     "prompt_number": 85
    },
    {
     "cell_type": "code",
     "collapsed": false,
     "input": [
      "outFrame['rok'] = outFrame['index'].apply(lambda x: x.split('_')[1])\n",
      "outFrame['index'] = outFrame['index'].apply(lambda x: x.split('_')[0])\n",
      "outFrame.rename(columns={'index': 'hexID', 0: 'obyv'}, inplace=True)"
     ],
     "language": "python",
     "metadata": {},
     "outputs": [],
     "prompt_number": 86
    },
    {
     "cell_type": "code",
     "collapsed": false,
     "input": [
      "outFrame.hexID = outFrame.hexID.astype(int)"
     ],
     "language": "python",
     "metadata": {},
     "outputs": [],
     "prompt_number": 87
    },
    {
     "cell_type": "code",
     "collapsed": false,
     "input": [
      "outFrame.head(3)"
     ],
     "language": "python",
     "metadata": {},
     "outputs": [
      {
       "html": [
        "<div style=\"max-height:1000px;max-width:1500px;overflow:auto;\">\n",
        "<table border=\"1\" class=\"dataframe\">\n",
        "  <thead>\n",
        "    <tr style=\"text-align: right;\">\n",
        "      <th></th>\n",
        "      <th>hexID</th>\n",
        "      <th>obyv</th>\n",
        "      <th>rok</th>\n",
        "    </tr>\n",
        "  </thead>\n",
        "  <tbody>\n",
        "    <tr>\n",
        "      <th>0</th>\n",
        "      <td> 533</td>\n",
        "      <td> 1660</td>\n",
        "      <td> 2007/12</td>\n",
        "    </tr>\n",
        "    <tr>\n",
        "      <th>1</th>\n",
        "      <td> 444</td>\n",
        "      <td>   21</td>\n",
        "      <td> 2002/12</td>\n",
        "    </tr>\n",
        "    <tr>\n",
        "      <th>2</th>\n",
        "      <td> 418</td>\n",
        "      <td> 2250</td>\n",
        "      <td> 2002/12</td>\n",
        "    </tr>\n",
        "  </tbody>\n",
        "</table>\n",
        "</div>"
       ],
       "metadata": {},
       "output_type": "pyout",
       "prompt_number": 88,
       "text": [
        "   hexID  obyv      rok\n",
        "0    533  1660  2007/12\n",
        "1    444    21  2002/12\n",
        "2    418  2250  2002/12"
       ]
      }
     ],
     "prompt_number": 88
    },
    {
     "cell_type": "code",
     "collapsed": false,
     "input": [
      "#dopleni 2011\n",
      "r12= []\n",
      "for row in outFrame.iterrows():\n",
      "    if (row[1]['rok'] == '2012/12'):\n",
      "        r12.append(row[1]['hexID'])\n",
      "    else:\n",
      "        continue\n",
      "        \n",
      "for row in outFrame.iterrows():\n",
      "    if (row[1]['rok'] == '2011/12'):\n",
      "        try:\n",
      "            r12.remove(row[1]['hexID'])\n",
      "        except:\n",
      "            continue\n",
      "    else:\n",
      "        continue\n",
      "        \n",
      "for missing in r12:\n",
      "    outFrame = outFrame.append({'hexID': missing, 'obyv': 0, 'rok': '2011/12'}, ignore_index=True)"
     ],
     "language": "python",
     "metadata": {},
     "outputs": [],
     "prompt_number": 89
    },
    {
     "cell_type": "code",
     "collapsed": false,
     "input": [
      "outFrame.to_excel(r'data/hexy_obyvatele_merc.xlsx')"
     ],
     "language": "python",
     "metadata": {},
     "outputs": [],
     "prompt_number": 90
    },
    {
     "cell_type": "code",
     "collapsed": false,
     "input": [
      "#table with years in cells\n",
      "outArr = {}\n",
      "\n",
      "for row in outFrame.iterrows():\n",
      "    hexID = row[1]['hexID']\n",
      "    obyv = row[1]['obyv']\n",
      "    rok = row[1]['rok']\n",
      "    \n",
      "    if hexID not in outArr:\n",
      "        outArr[hexID] = {}\n",
      "    outArr[hexID][rok] = obyv\n",
      "    \n",
      "tablear = pd.DataFrame.from_dict(outArr, orient='index')\n",
      "\n",
      "tablear.reset_index(inplace=True)\n",
      "tablear.rename(columns={'index': 'hexID'}, inplace=True)\n",
      "tablear.sort(axis=1).to_csv(r'data/hex_obyv_table_merc.csv', encoding='utf-8')"
     ],
     "language": "python",
     "metadata": {},
     "outputs": [],
     "prompt_number": 91
    }
   ],
   "metadata": {}
  }
 ]
}